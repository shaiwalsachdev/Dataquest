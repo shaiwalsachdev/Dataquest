{
 "cells": [
  {
   "cell_type": "code",
   "execution_count": 2,
   "metadata": {
    "collapsed": true
   },
   "outputs": [],
   "source": [
    "import pandas as pd\n",
    "data = pd.read_csv('thanksgiving.csv',encoding = 'Latin-1')"
   ]
  },
  {
   "cell_type": "code",
   "execution_count": 3,
   "metadata": {
    "collapsed": false
   },
   "outputs": [
    {
     "name": "stdout",
     "output_type": "stream",
     "text": [
      "(1058, 65)\n"
     ]
    }
   ],
   "source": [
    "print(data.shape)"
   ]
  },
  {
   "cell_type": "code",
   "execution_count": 114,
   "metadata": {
    "collapsed": false
   },
   "outputs": [],
   "source": [
    "import numpy as np"
   ]
  },
  {
   "cell_type": "code",
   "execution_count": 4,
   "metadata": {
    "collapsed": false
   },
   "outputs": [
    {
     "name": "stdout",
     "output_type": "stream",
     "text": [
      "Index(['RespondentID', 'Do you celebrate Thanksgiving?',\n",
      "       'What is typically the main dish at your Thanksgiving dinner?',\n",
      "       'What is typically the main dish at your Thanksgiving dinner? - Other (please specify)',\n",
      "       'How is the main dish typically cooked?',\n",
      "       'How is the main dish typically cooked? - Other (please specify)',\n",
      "       'What kind of stuffing/dressing do you typically have?',\n",
      "       'What kind of stuffing/dressing do you typically have? - Other (please specify)',\n",
      "       'What type of cranberry saucedo you typically have?',\n",
      "       'What type of cranberry saucedo you typically have? - Other (please specify)',\n",
      "       'Do you typically have gravy?',\n",
      "       'Which of these side dishes aretypically served at your Thanksgiving dinner? Please select all that apply. - Brussel sprouts',\n",
      "       'Which of these side dishes aretypically served at your Thanksgiving dinner? Please select all that apply. - Carrots',\n",
      "       'Which of these side dishes aretypically served at your Thanksgiving dinner? Please select all that apply. - Cauliflower',\n",
      "       'Which of these side dishes aretypically served at your Thanksgiving dinner? Please select all that apply. - Corn',\n",
      "       'Which of these side dishes aretypically served at your Thanksgiving dinner? Please select all that apply. - Cornbread',\n",
      "       'Which of these side dishes aretypically served at your Thanksgiving dinner? Please select all that apply. - Fruit salad',\n",
      "       'Which of these side dishes aretypically served at your Thanksgiving dinner? Please select all that apply. - Green beans/green bean casserole',\n",
      "       'Which of these side dishes aretypically served at your Thanksgiving dinner? Please select all that apply. - Macaroni and cheese',\n",
      "       'Which of these side dishes aretypically served at your Thanksgiving dinner? Please select all that apply. - Mashed potatoes',\n",
      "       'Which of these side dishes aretypically served at your Thanksgiving dinner? Please select all that apply. - Rolls/biscuits',\n",
      "       'Which of these side dishes aretypically served at your Thanksgiving dinner? Please select all that apply. - Squash',\n",
      "       'Which of these side dishes aretypically served at your Thanksgiving dinner? Please select all that apply. - Vegetable salad',\n",
      "       'Which of these side dishes aretypically served at your Thanksgiving dinner? Please select all that apply. - Yams/sweet potato casserole',\n",
      "       'Which of these side dishes aretypically served at your Thanksgiving dinner? Please select all that apply. - Other (please specify)',\n",
      "       'Which of these side dishes aretypically served at your Thanksgiving dinner? Please select all that apply. - Other (please specify).1',\n",
      "       'Which type of pie is typically served at your Thanksgiving dinner? Please select all that apply. - Apple',\n",
      "       'Which type of pie is typically served at your Thanksgiving dinner? Please select all that apply. - Buttermilk',\n",
      "       'Which type of pie is typically served at your Thanksgiving dinner? Please select all that apply. - Cherry',\n",
      "       'Which type of pie is typically served at your Thanksgiving dinner? Please select all that apply. - Chocolate',\n",
      "       'Which type of pie is typically served at your Thanksgiving dinner? Please select all that apply. - Coconut cream',\n",
      "       'Which type of pie is typically served at your Thanksgiving dinner? Please select all that apply. - Key lime',\n",
      "       'Which type of pie is typically served at your Thanksgiving dinner? Please select all that apply. - Peach',\n",
      "       'Which type of pie is typically served at your Thanksgiving dinner? Please select all that apply. - Pecan',\n",
      "       'Which type of pie is typically served at your Thanksgiving dinner? Please select all that apply. - Pumpkin',\n",
      "       'Which type of pie is typically served at your Thanksgiving dinner? Please select all that apply. - Sweet Potato',\n",
      "       'Which type of pie is typically served at your Thanksgiving dinner? Please select all that apply. - None',\n",
      "       'Which type of pie is typically served at your Thanksgiving dinner? Please select all that apply. - Other (please specify)',\n",
      "       'Which type of pie is typically served at your Thanksgiving dinner? Please select all that apply. - Other (please specify).1',\n",
      "       'Which of these desserts do you typically have at Thanksgiving dinner? Please select all that apply.   - Apple cobbler',\n",
      "       'Which of these desserts do you typically have at Thanksgiving dinner? Please select all that apply.   - Blondies',\n",
      "       'Which of these desserts do you typically have at Thanksgiving dinner? Please select all that apply.   - Brownies',\n",
      "       'Which of these desserts do you typically have at Thanksgiving dinner? Please select all that apply.   - Carrot cake',\n",
      "       'Which of these desserts do you typically have at Thanksgiving dinner? Please select all that apply.   - Cheesecake',\n",
      "       'Which of these desserts do you typically have at Thanksgiving dinner? Please select all that apply.   - Cookies',\n",
      "       'Which of these desserts do you typically have at Thanksgiving dinner? Please select all that apply.   - Fudge',\n",
      "       'Which of these desserts do you typically have at Thanksgiving dinner? Please select all that apply.   - Ice cream',\n",
      "       'Which of these desserts do you typically have at Thanksgiving dinner? Please select all that apply.   - Peach cobbler',\n",
      "       'Which of these desserts do you typically have at Thanksgiving dinner? Please select all that apply.   - None',\n",
      "       'Which of these desserts do you typically have at Thanksgiving dinner? Please select all that apply.   - Other (please specify)',\n",
      "       'Which of these desserts do you typically have at Thanksgiving dinner? Please select all that apply.   - Other (please specify).1',\n",
      "       'Do you typically pray before or after the Thanksgiving meal?',\n",
      "       'How far will you travel for Thanksgiving?',\n",
      "       'Will you watch any of the following programs on Thanksgiving? Please select all that apply. - Macy's Parade',\n",
      "       'What's the age cutoff at your \"kids' table\" at Thanksgiving?',\n",
      "       'Have you ever tried to meet up with hometown friends on Thanksgiving night?',\n",
      "       'Have you ever attended a \"Friendsgiving?\"',\n",
      "       'Will you shop any Black Friday sales on Thanksgiving Day?',\n",
      "       'Do you work in retail?',\n",
      "       'Will you employer make you work on Black Friday?',\n",
      "       'How would you describe where you live?', 'Age', 'What is your gender?',\n",
      "       'How much total combined money did all members of your HOUSEHOLD earn last year?',\n",
      "       'US Region'],\n",
      "      dtype='object')\n"
     ]
    }
   ],
   "source": [
    "print(data.columns)"
   ]
  },
  {
   "cell_type": "code",
   "execution_count": 5,
   "metadata": {
    "collapsed": false
   },
   "outputs": [
    {
     "name": "stdout",
     "output_type": "stream",
     "text": [
      "RespondentID                                                                                                                                     int64\n",
      "Do you celebrate Thanksgiving?                                                                                                                  object\n",
      "What is typically the main dish at your Thanksgiving dinner?                                                                                    object\n",
      "What is typically the main dish at your Thanksgiving dinner? - Other (please specify)                                                           object\n",
      "How is the main dish typically cooked?                                                                                                          object\n",
      "How is the main dish typically cooked? - Other (please specify)                                                                                 object\n",
      "What kind of stuffing/dressing do you typically have?                                                                                           object\n",
      "What kind of stuffing/dressing do you typically have? - Other (please specify)                                                                  object\n",
      "What type of cranberry saucedo you typically have?                                                                                              object\n",
      "What type of cranberry saucedo you typically have? - Other (please specify)                                                                     object\n",
      "Do you typically have gravy?                                                                                                                    object\n",
      "Which of these side dishes aretypically served at your Thanksgiving dinner? Please select all that apply. - Brussel sprouts                     object\n",
      "Which of these side dishes aretypically served at your Thanksgiving dinner? Please select all that apply. - Carrots                             object\n",
      "Which of these side dishes aretypically served at your Thanksgiving dinner? Please select all that apply. - Cauliflower                         object\n",
      "Which of these side dishes aretypically served at your Thanksgiving dinner? Please select all that apply. - Corn                                object\n",
      "Which of these side dishes aretypically served at your Thanksgiving dinner? Please select all that apply. - Cornbread                           object\n",
      "Which of these side dishes aretypically served at your Thanksgiving dinner? Please select all that apply. - Fruit salad                         object\n",
      "Which of these side dishes aretypically served at your Thanksgiving dinner? Please select all that apply. - Green beans/green bean casserole    object\n",
      "Which of these side dishes aretypically served at your Thanksgiving dinner? Please select all that apply. - Macaroni and cheese                 object\n",
      "Which of these side dishes aretypically served at your Thanksgiving dinner? Please select all that apply. - Mashed potatoes                     object\n",
      "Which of these side dishes aretypically served at your Thanksgiving dinner? Please select all that apply. - Rolls/biscuits                      object\n",
      "Which of these side dishes aretypically served at your Thanksgiving dinner? Please select all that apply. - Squash                              object\n",
      "Which of these side dishes aretypically served at your Thanksgiving dinner? Please select all that apply. - Vegetable salad                     object\n",
      "Which of these side dishes aretypically served at your Thanksgiving dinner? Please select all that apply. - Yams/sweet potato casserole         object\n",
      "Which of these side dishes aretypically served at your Thanksgiving dinner? Please select all that apply. - Other (please specify)              object\n",
      "Which of these side dishes aretypically served at your Thanksgiving dinner? Please select all that apply. - Other (please specify).1            object\n",
      "Which type of pie is typically served at your Thanksgiving dinner? Please select all that apply. - Apple                                        object\n",
      "Which type of pie is typically served at your Thanksgiving dinner? Please select all that apply. - Buttermilk                                   object\n",
      "Which type of pie is typically served at your Thanksgiving dinner? Please select all that apply. - Cherry                                       object\n",
      "Which type of pie is typically served at your Thanksgiving dinner? Please select all that apply. - Chocolate                                    object\n",
      "                                                                                                                                                 ...  \n",
      "Which type of pie is typically served at your Thanksgiving dinner? Please select all that apply. - Sweet Potato                                 object\n",
      "Which type of pie is typically served at your Thanksgiving dinner? Please select all that apply. - None                                         object\n",
      "Which type of pie is typically served at your Thanksgiving dinner? Please select all that apply. - Other (please specify)                       object\n",
      "Which type of pie is typically served at your Thanksgiving dinner? Please select all that apply. - Other (please specify).1                     object\n",
      "Which of these desserts do you typically have at Thanksgiving dinner? Please select all that apply.   - Apple cobbler                           object\n",
      "Which of these desserts do you typically have at Thanksgiving dinner? Please select all that apply.   - Blondies                                object\n",
      "Which of these desserts do you typically have at Thanksgiving dinner? Please select all that apply.   - Brownies                                object\n",
      "Which of these desserts do you typically have at Thanksgiving dinner? Please select all that apply.   - Carrot cake                             object\n",
      "Which of these desserts do you typically have at Thanksgiving dinner? Please select all that apply.   - Cheesecake                              object\n",
      "Which of these desserts do you typically have at Thanksgiving dinner? Please select all that apply.   - Cookies                                 object\n",
      "Which of these desserts do you typically have at Thanksgiving dinner? Please select all that apply.   - Fudge                                   object\n",
      "Which of these desserts do you typically have at Thanksgiving dinner? Please select all that apply.   - Ice cream                               object\n",
      "Which of these desserts do you typically have at Thanksgiving dinner? Please select all that apply.   - Peach cobbler                           object\n",
      "Which of these desserts do you typically have at Thanksgiving dinner? Please select all that apply.   - None                                    object\n",
      "Which of these desserts do you typically have at Thanksgiving dinner? Please select all that apply.   - Other (please specify)                  object\n",
      "Which of these desserts do you typically have at Thanksgiving dinner? Please select all that apply.   - Other (please specify).1                object\n",
      "Do you typically pray before or after the Thanksgiving meal?                                                                                    object\n",
      "How far will you travel for Thanksgiving?                                                                                                       object\n",
      "Will you watch any of the following programs on Thanksgiving? Please select all that apply. - Macy's Parade                                     object\n",
      "What's the age cutoff at your \"kids' table\" at Thanksgiving?                                                                                    object\n",
      "Have you ever tried to meet up with hometown friends on Thanksgiving night?                                                                     object\n",
      "Have you ever attended a \"Friendsgiving?\"                                                                                                       object\n",
      "Will you shop any Black Friday sales on Thanksgiving Day?                                                                                       object\n",
      "Do you work in retail?                                                                                                                          object\n",
      "Will you employer make you work on Black Friday?                                                                                                object\n",
      "How would you describe where you live?                                                                                                          object\n",
      "Age                                                                                                                                             object\n",
      "What is your gender?                                                                                                                            object\n",
      "How much total combined money did all members of your HOUSEHOLD earn last year?                                                                 object\n",
      "US Region                                                                                                                                       object\n",
      "dtype: object\n"
     ]
    }
   ],
   "source": [
    "print (data.dtypes)"
   ]
  },
  {
   "cell_type": "code",
   "execution_count": 6,
   "metadata": {
    "collapsed": false
   },
   "outputs": [
    {
     "name": "stdout",
     "output_type": "stream",
     "text": [
      "   RespondentID Do you celebrate Thanksgiving?  \\\n",
      "0    4337954960                            Yes   \n",
      "1    4337951949                            Yes   \n",
      "2    4337935621                            Yes   \n",
      "3    4337933040                            Yes   \n",
      "4    4337931983                            Yes   \n",
      "\n",
      "  What is typically the main dish at your Thanksgiving dinner?  \\\n",
      "0                                             Turkey             \n",
      "1                                             Turkey             \n",
      "2                                             Turkey             \n",
      "3                                             Turkey             \n",
      "4                                           Tofurkey             \n",
      "\n",
      "  What is typically the main dish at your Thanksgiving dinner? - Other (please specify)  \\\n",
      "0                                                NaN                                      \n",
      "1                                                NaN                                      \n",
      "2                                                NaN                                      \n",
      "3                                                NaN                                      \n",
      "4                                                NaN                                      \n",
      "\n",
      "  How is the main dish typically cooked?  \\\n",
      "0                                  Baked   \n",
      "1                                  Baked   \n",
      "2                                Roasted   \n",
      "3                                  Baked   \n",
      "4                                  Baked   \n",
      "\n",
      "  How is the main dish typically cooked? - Other (please specify)  \\\n",
      "0                                                NaN                \n",
      "1                                                NaN                \n",
      "2                                                NaN                \n",
      "3                                                NaN                \n",
      "4                                                NaN                \n",
      "\n",
      "  What kind of stuffing/dressing do you typically have?  \\\n",
      "0                                        Bread-based      \n",
      "1                                        Bread-based      \n",
      "2                                         Rice-based      \n",
      "3                                        Bread-based      \n",
      "4                                        Bread-based      \n",
      "\n",
      "  What kind of stuffing/dressing do you typically have? - Other (please specify)  \\\n",
      "0                                                NaN                               \n",
      "1                                                NaN                               \n",
      "2                                                NaN                               \n",
      "3                                                NaN                               \n",
      "4                                                NaN                               \n",
      "\n",
      "  What type of cranberry saucedo you typically have?  \\\n",
      "0                                               None   \n",
      "1                             Other (please specify)   \n",
      "2                                           Homemade   \n",
      "3                                           Homemade   \n",
      "4                                             Canned   \n",
      "\n",
      "  What type of cranberry saucedo you typically have? - Other (please specify)  \\\n",
      "0                                                NaN                            \n",
      "1                    Homemade cranberry gelatin ring                            \n",
      "2                                                NaN                            \n",
      "3                                                NaN                            \n",
      "4                                                NaN                            \n",
      "\n",
      "          ...          \\\n",
      "0         ...           \n",
      "1         ...           \n",
      "2         ...           \n",
      "3         ...           \n",
      "4         ...           \n",
      "\n",
      "  Have you ever tried to meet up with hometown friends on Thanksgiving night?  \\\n",
      "0                                                Yes                            \n",
      "1                                                 No                            \n",
      "2                                                Yes                            \n",
      "3                                                Yes                            \n",
      "4                                                Yes                            \n",
      "\n",
      "  Have you ever attended a \"Friendsgiving?\"  \\\n",
      "0                                        No   \n",
      "1                                        No   \n",
      "2                                       Yes   \n",
      "3                                        No   \n",
      "4                                        No   \n",
      "\n",
      "  Will you shop any Black Friday sales on Thanksgiving Day?  \\\n",
      "0                                                 No          \n",
      "1                                                Yes          \n",
      "2                                                Yes          \n",
      "3                                                 No          \n",
      "4                                                 No          \n",
      "\n",
      "  Do you work in retail? Will you employer make you work on Black Friday?  \\\n",
      "0                     No                                              NaN   \n",
      "1                     No                                              NaN   \n",
      "2                     No                                              NaN   \n",
      "3                     No                                              NaN   \n",
      "4                     No                                              NaN   \n",
      "\n",
      "  How would you describe where you live?      Age What is your gender?  \\\n",
      "0                               Suburban  18 - 29                 Male   \n",
      "1                                  Rural  18 - 29               Female   \n",
      "2                               Suburban  18 - 29                 Male   \n",
      "3                                  Urban  30 - 44                 Male   \n",
      "4                                  Urban  30 - 44                 Male   \n",
      "\n",
      "  How much total combined money did all members of your HOUSEHOLD earn last year?  \\\n",
      "0                                 $75,000 to $99,999                                \n",
      "1                                 $50,000 to $74,999                                \n",
      "2                                       $0 to $9,999                                \n",
      "3                                    $200,000 and up                                \n",
      "4                               $100,000 to $124,999                                \n",
      "\n",
      "            US Region  \n",
      "0     Middle Atlantic  \n",
      "1  East South Central  \n",
      "2            Mountain  \n",
      "3             Pacific  \n",
      "4             Pacific  \n",
      "\n",
      "[5 rows x 65 columns]\n"
     ]
    }
   ],
   "source": [
    "print(data.head(5))"
   ]
  },
  {
   "cell_type": "code",
   "execution_count": 7,
   "metadata": {
    "collapsed": false
   },
   "outputs": [
    {
     "data": {
      "text/plain": [
       "Yes    980\n",
       "No      78\n",
       "Name: Do you celebrate Thanksgiving?, dtype: int64"
      ]
     },
     "execution_count": 7,
     "metadata": {},
     "output_type": "execute_result"
    }
   ],
   "source": [
    "data['Do you celebrate Thanksgiving?'].value_counts()"
   ]
  },
  {
   "cell_type": "code",
   "execution_count": 10,
   "metadata": {
    "collapsed": false
   },
   "outputs": [],
   "source": [
    "condition = data['Do you celebrate Thanksgiving?'] == 'Yes'"
   ]
  },
  {
   "cell_type": "code",
   "execution_count": 11,
   "metadata": {
    "collapsed": true
   },
   "outputs": [],
   "source": [
    "data = data[condition]"
   ]
  },
  {
   "cell_type": "code",
   "execution_count": 12,
   "metadata": {
    "collapsed": false
   },
   "outputs": [
    {
     "name": "stdout",
     "output_type": "stream",
     "text": [
      "(980, 65)\n"
     ]
    }
   ],
   "source": [
    "print(data.shape)"
   ]
  },
  {
   "cell_type": "code",
   "execution_count": 13,
   "metadata": {
    "collapsed": false
   },
   "outputs": [
    {
     "data": {
      "text/plain": [
       "Turkey                    859\n",
       "Other (please specify)     35\n",
       "Ham/Pork                   29\n",
       "Tofurkey                   20\n",
       "Chicken                    12\n",
       "Roast beef                 11\n",
       "I don't know                5\n",
       "Turducken                   3\n",
       "Name: What is typically the main dish at your Thanksgiving dinner?, dtype: int64"
      ]
     },
     "execution_count": 13,
     "metadata": {},
     "output_type": "execute_result"
    }
   ],
   "source": [
    "data['What is typically the main dish at your Thanksgiving dinner?'].value_counts()"
   ]
  },
  {
   "cell_type": "code",
   "execution_count": 14,
   "metadata": {
    "collapsed": true
   },
   "outputs": [],
   "source": [
    "condition_gravy = data['What is typically the main dish at your Thanksgiving dinner?'] == 'Tofurkey'"
   ]
  },
  {
   "cell_type": "code",
   "execution_count": 15,
   "metadata": {
    "collapsed": false
   },
   "outputs": [
    {
     "name": "stdout",
     "output_type": "stream",
     "text": [
      "4      Yes\n",
      "33     Yes\n",
      "69      No\n",
      "72      No\n",
      "77     Yes\n",
      "145    Yes\n",
      "175    Yes\n",
      "218     No\n",
      "243    Yes\n",
      "275     No\n",
      "393    Yes\n",
      "399    Yes\n",
      "571    Yes\n",
      "594    Yes\n",
      "628     No\n",
      "774     No\n",
      "820     No\n",
      "837    Yes\n",
      "860     No\n",
      "953    Yes\n",
      "Name: Do you typically have gravy?, dtype: object\n"
     ]
    }
   ],
   "source": [
    "print(data[condition_gravy]['Do you typically have gravy?'])"
   ]
  },
  {
   "cell_type": "code",
   "execution_count": 34,
   "metadata": {
    "collapsed": false
   },
   "outputs": [],
   "source": [
    "apple_isnull  = pd.isnull(data['Which type of pie is typically served at your Thanksgiving dinner? Please select all that apply. - Apple'])\n",
    "pumpkin_isnull  = pd.isnull(data['Which type of pie is typically served at your Thanksgiving dinner? Please select all that apply. - Pumpkin'])\n",
    "pecan_isnull  = pd.isnull(data['Which type of pie is typically served at your Thanksgiving dinner? Please select all that apply. - Pecan'])"
   ]
  },
  {
   "cell_type": "code",
   "execution_count": 35,
   "metadata": {
    "collapsed": false
   },
   "outputs": [],
   "source": [
    "no_pies = apple_isnull & pumpkin_isnull & pecan_isnull"
   ]
  },
  {
   "cell_type": "code",
   "execution_count": 54,
   "metadata": {
    "collapsed": false
   },
   "outputs": [],
   "source": [
    "pies_data = data[no_pies == False][['Which type of pie is typically served at your Thanksgiving dinner? Please select all that apply. - Apple','Which type of pie is typically served at your Thanksgiving dinner? Please select all that apply. - Pumpkin','Which type of pie is typically served at your Thanksgiving dinner? Please select all that apply. - Pecan']]"
   ]
  },
  {
   "cell_type": "code",
   "execution_count": 55,
   "metadata": {
    "collapsed": false
   },
   "outputs": [
    {
     "data": {
      "text/html": [
       "<div>\n",
       "<table border=\"1\" class=\"dataframe\">\n",
       "  <thead>\n",
       "    <tr style=\"text-align: right;\">\n",
       "      <th></th>\n",
       "      <th>Which type of pie is typically served at your Thanksgiving dinner? Please select all that apply. - Apple</th>\n",
       "      <th>Which type of pie is typically served at your Thanksgiving dinner? Please select all that apply. - Pumpkin</th>\n",
       "      <th>Which type of pie is typically served at your Thanksgiving dinner? Please select all that apply. - Pecan</th>\n",
       "    </tr>\n",
       "  </thead>\n",
       "  <tbody>\n",
       "    <tr>\n",
       "      <th>0</th>\n",
       "      <td>Apple</td>\n",
       "      <td>NaN</td>\n",
       "      <td>NaN</td>\n",
       "    </tr>\n",
       "    <tr>\n",
       "      <th>1</th>\n",
       "      <td>Apple</td>\n",
       "      <td>Pumpkin</td>\n",
       "      <td>NaN</td>\n",
       "    </tr>\n",
       "    <tr>\n",
       "      <th>2</th>\n",
       "      <td>Apple</td>\n",
       "      <td>Pumpkin</td>\n",
       "      <td>Pecan</td>\n",
       "    </tr>\n",
       "    <tr>\n",
       "      <th>3</th>\n",
       "      <td>NaN</td>\n",
       "      <td>Pumpkin</td>\n",
       "      <td>Pecan</td>\n",
       "    </tr>\n",
       "    <tr>\n",
       "      <th>4</th>\n",
       "      <td>Apple</td>\n",
       "      <td>Pumpkin</td>\n",
       "      <td>NaN</td>\n",
       "    </tr>\n",
       "    <tr>\n",
       "      <th>6</th>\n",
       "      <td>Apple</td>\n",
       "      <td>Pumpkin</td>\n",
       "      <td>NaN</td>\n",
       "    </tr>\n",
       "    <tr>\n",
       "      <th>8</th>\n",
       "      <td>Apple</td>\n",
       "      <td>Pumpkin</td>\n",
       "      <td>NaN</td>\n",
       "    </tr>\n",
       "    <tr>\n",
       "      <th>9</th>\n",
       "      <td>NaN</td>\n",
       "      <td>Pumpkin</td>\n",
       "      <td>NaN</td>\n",
       "    </tr>\n",
       "    <tr>\n",
       "      <th>11</th>\n",
       "      <td>Apple</td>\n",
       "      <td>NaN</td>\n",
       "      <td>Pecan</td>\n",
       "    </tr>\n",
       "    <tr>\n",
       "      <th>12</th>\n",
       "      <td>NaN</td>\n",
       "      <td>Pumpkin</td>\n",
       "      <td>NaN</td>\n",
       "    </tr>\n",
       "    <tr>\n",
       "      <th>13</th>\n",
       "      <td>Apple</td>\n",
       "      <td>Pumpkin</td>\n",
       "      <td>NaN</td>\n",
       "    </tr>\n",
       "    <tr>\n",
       "      <th>14</th>\n",
       "      <td>NaN</td>\n",
       "      <td>Pumpkin</td>\n",
       "      <td>Pecan</td>\n",
       "    </tr>\n",
       "    <tr>\n",
       "      <th>16</th>\n",
       "      <td>NaN</td>\n",
       "      <td>NaN</td>\n",
       "      <td>Pecan</td>\n",
       "    </tr>\n",
       "    <tr>\n",
       "      <th>17</th>\n",
       "      <td>NaN</td>\n",
       "      <td>Pumpkin</td>\n",
       "      <td>NaN</td>\n",
       "    </tr>\n",
       "    <tr>\n",
       "      <th>18</th>\n",
       "      <td>Apple</td>\n",
       "      <td>Pumpkin</td>\n",
       "      <td>Pecan</td>\n",
       "    </tr>\n",
       "    <tr>\n",
       "      <th>19</th>\n",
       "      <td>Apple</td>\n",
       "      <td>Pumpkin</td>\n",
       "      <td>NaN</td>\n",
       "    </tr>\n",
       "    <tr>\n",
       "      <th>20</th>\n",
       "      <td>NaN</td>\n",
       "      <td>Pumpkin</td>\n",
       "      <td>NaN</td>\n",
       "    </tr>\n",
       "    <tr>\n",
       "      <th>23</th>\n",
       "      <td>Apple</td>\n",
       "      <td>NaN</td>\n",
       "      <td>NaN</td>\n",
       "    </tr>\n",
       "    <tr>\n",
       "      <th>24</th>\n",
       "      <td>NaN</td>\n",
       "      <td>Pumpkin</td>\n",
       "      <td>Pecan</td>\n",
       "    </tr>\n",
       "    <tr>\n",
       "      <th>25</th>\n",
       "      <td>Apple</td>\n",
       "      <td>Pumpkin</td>\n",
       "      <td>Pecan</td>\n",
       "    </tr>\n",
       "    <tr>\n",
       "      <th>26</th>\n",
       "      <td>Apple</td>\n",
       "      <td>Pumpkin</td>\n",
       "      <td>NaN</td>\n",
       "    </tr>\n",
       "    <tr>\n",
       "      <th>27</th>\n",
       "      <td>Apple</td>\n",
       "      <td>Pumpkin</td>\n",
       "      <td>NaN</td>\n",
       "    </tr>\n",
       "    <tr>\n",
       "      <th>28</th>\n",
       "      <td>Apple</td>\n",
       "      <td>Pumpkin</td>\n",
       "      <td>NaN</td>\n",
       "    </tr>\n",
       "    <tr>\n",
       "      <th>29</th>\n",
       "      <td>Apple</td>\n",
       "      <td>Pumpkin</td>\n",
       "      <td>NaN</td>\n",
       "    </tr>\n",
       "    <tr>\n",
       "      <th>30</th>\n",
       "      <td>NaN</td>\n",
       "      <td>Pumpkin</td>\n",
       "      <td>NaN</td>\n",
       "    </tr>\n",
       "    <tr>\n",
       "      <th>32</th>\n",
       "      <td>Apple</td>\n",
       "      <td>Pumpkin</td>\n",
       "      <td>NaN</td>\n",
       "    </tr>\n",
       "    <tr>\n",
       "      <th>33</th>\n",
       "      <td>NaN</td>\n",
       "      <td>Pumpkin</td>\n",
       "      <td>NaN</td>\n",
       "    </tr>\n",
       "    <tr>\n",
       "      <th>34</th>\n",
       "      <td>Apple</td>\n",
       "      <td>NaN</td>\n",
       "      <td>Pecan</td>\n",
       "    </tr>\n",
       "    <tr>\n",
       "      <th>36</th>\n",
       "      <td>NaN</td>\n",
       "      <td>Pumpkin</td>\n",
       "      <td>Pecan</td>\n",
       "    </tr>\n",
       "    <tr>\n",
       "      <th>37</th>\n",
       "      <td>Apple</td>\n",
       "      <td>Pumpkin</td>\n",
       "      <td>Pecan</td>\n",
       "    </tr>\n",
       "    <tr>\n",
       "      <th>...</th>\n",
       "      <td>...</td>\n",
       "      <td>...</td>\n",
       "      <td>...</td>\n",
       "    </tr>\n",
       "    <tr>\n",
       "      <th>1019</th>\n",
       "      <td>Apple</td>\n",
       "      <td>Pumpkin</td>\n",
       "      <td>Pecan</td>\n",
       "    </tr>\n",
       "    <tr>\n",
       "      <th>1021</th>\n",
       "      <td>NaN</td>\n",
       "      <td>Pumpkin</td>\n",
       "      <td>NaN</td>\n",
       "    </tr>\n",
       "    <tr>\n",
       "      <th>1022</th>\n",
       "      <td>Apple</td>\n",
       "      <td>Pumpkin</td>\n",
       "      <td>NaN</td>\n",
       "    </tr>\n",
       "    <tr>\n",
       "      <th>1023</th>\n",
       "      <td>NaN</td>\n",
       "      <td>Pumpkin</td>\n",
       "      <td>NaN</td>\n",
       "    </tr>\n",
       "    <tr>\n",
       "      <th>1024</th>\n",
       "      <td>NaN</td>\n",
       "      <td>NaN</td>\n",
       "      <td>Pecan</td>\n",
       "    </tr>\n",
       "    <tr>\n",
       "      <th>1025</th>\n",
       "      <td>Apple</td>\n",
       "      <td>Pumpkin</td>\n",
       "      <td>Pecan</td>\n",
       "    </tr>\n",
       "    <tr>\n",
       "      <th>1026</th>\n",
       "      <td>Apple</td>\n",
       "      <td>Pumpkin</td>\n",
       "      <td>NaN</td>\n",
       "    </tr>\n",
       "    <tr>\n",
       "      <th>1027</th>\n",
       "      <td>NaN</td>\n",
       "      <td>Pumpkin</td>\n",
       "      <td>NaN</td>\n",
       "    </tr>\n",
       "    <tr>\n",
       "      <th>1029</th>\n",
       "      <td>Apple</td>\n",
       "      <td>Pumpkin</td>\n",
       "      <td>NaN</td>\n",
       "    </tr>\n",
       "    <tr>\n",
       "      <th>1030</th>\n",
       "      <td>Apple</td>\n",
       "      <td>NaN</td>\n",
       "      <td>NaN</td>\n",
       "    </tr>\n",
       "    <tr>\n",
       "      <th>1031</th>\n",
       "      <td>Apple</td>\n",
       "      <td>NaN</td>\n",
       "      <td>NaN</td>\n",
       "    </tr>\n",
       "    <tr>\n",
       "      <th>1033</th>\n",
       "      <td>NaN</td>\n",
       "      <td>Pumpkin</td>\n",
       "      <td>NaN</td>\n",
       "    </tr>\n",
       "    <tr>\n",
       "      <th>1034</th>\n",
       "      <td>NaN</td>\n",
       "      <td>Pumpkin</td>\n",
       "      <td>NaN</td>\n",
       "    </tr>\n",
       "    <tr>\n",
       "      <th>1035</th>\n",
       "      <td>NaN</td>\n",
       "      <td>Pumpkin</td>\n",
       "      <td>NaN</td>\n",
       "    </tr>\n",
       "    <tr>\n",
       "      <th>1038</th>\n",
       "      <td>Apple</td>\n",
       "      <td>Pumpkin</td>\n",
       "      <td>Pecan</td>\n",
       "    </tr>\n",
       "    <tr>\n",
       "      <th>1039</th>\n",
       "      <td>Apple</td>\n",
       "      <td>Pumpkin</td>\n",
       "      <td>NaN</td>\n",
       "    </tr>\n",
       "    <tr>\n",
       "      <th>1040</th>\n",
       "      <td>Apple</td>\n",
       "      <td>Pumpkin</td>\n",
       "      <td>NaN</td>\n",
       "    </tr>\n",
       "    <tr>\n",
       "      <th>1041</th>\n",
       "      <td>Apple</td>\n",
       "      <td>Pumpkin</td>\n",
       "      <td>Pecan</td>\n",
       "    </tr>\n",
       "    <tr>\n",
       "      <th>1042</th>\n",
       "      <td>Apple</td>\n",
       "      <td>Pumpkin</td>\n",
       "      <td>Pecan</td>\n",
       "    </tr>\n",
       "    <tr>\n",
       "      <th>1044</th>\n",
       "      <td>Apple</td>\n",
       "      <td>NaN</td>\n",
       "      <td>NaN</td>\n",
       "    </tr>\n",
       "    <tr>\n",
       "      <th>1045</th>\n",
       "      <td>NaN</td>\n",
       "      <td>Pumpkin</td>\n",
       "      <td>Pecan</td>\n",
       "    </tr>\n",
       "    <tr>\n",
       "      <th>1046</th>\n",
       "      <td>Apple</td>\n",
       "      <td>Pumpkin</td>\n",
       "      <td>Pecan</td>\n",
       "    </tr>\n",
       "    <tr>\n",
       "      <th>1047</th>\n",
       "      <td>Apple</td>\n",
       "      <td>Pumpkin</td>\n",
       "      <td>Pecan</td>\n",
       "    </tr>\n",
       "    <tr>\n",
       "      <th>1048</th>\n",
       "      <td>NaN</td>\n",
       "      <td>Pumpkin</td>\n",
       "      <td>NaN</td>\n",
       "    </tr>\n",
       "    <tr>\n",
       "      <th>1049</th>\n",
       "      <td>Apple</td>\n",
       "      <td>NaN</td>\n",
       "      <td>NaN</td>\n",
       "    </tr>\n",
       "    <tr>\n",
       "      <th>1050</th>\n",
       "      <td>Apple</td>\n",
       "      <td>Pumpkin</td>\n",
       "      <td>NaN</td>\n",
       "    </tr>\n",
       "    <tr>\n",
       "      <th>1051</th>\n",
       "      <td>NaN</td>\n",
       "      <td>Pumpkin</td>\n",
       "      <td>Pecan</td>\n",
       "    </tr>\n",
       "    <tr>\n",
       "      <th>1053</th>\n",
       "      <td>NaN</td>\n",
       "      <td>Pumpkin</td>\n",
       "      <td>Pecan</td>\n",
       "    </tr>\n",
       "    <tr>\n",
       "      <th>1054</th>\n",
       "      <td>NaN</td>\n",
       "      <td>Pumpkin</td>\n",
       "      <td>NaN</td>\n",
       "    </tr>\n",
       "    <tr>\n",
       "      <th>1055</th>\n",
       "      <td>Apple</td>\n",
       "      <td>NaN</td>\n",
       "      <td>NaN</td>\n",
       "    </tr>\n",
       "  </tbody>\n",
       "</table>\n",
       "<p>876 rows × 3 columns</p>\n",
       "</div>"
      ],
      "text/plain": [
       "     Which type of pie is typically served at your Thanksgiving dinner? Please select all that apply. - Apple  \\\n",
       "0                                                 Apple                                                         \n",
       "1                                                 Apple                                                         \n",
       "2                                                 Apple                                                         \n",
       "3                                                   NaN                                                         \n",
       "4                                                 Apple                                                         \n",
       "6                                                 Apple                                                         \n",
       "8                                                 Apple                                                         \n",
       "9                                                   NaN                                                         \n",
       "11                                                Apple                                                         \n",
       "12                                                  NaN                                                         \n",
       "13                                                Apple                                                         \n",
       "14                                                  NaN                                                         \n",
       "16                                                  NaN                                                         \n",
       "17                                                  NaN                                                         \n",
       "18                                                Apple                                                         \n",
       "19                                                Apple                                                         \n",
       "20                                                  NaN                                                         \n",
       "23                                                Apple                                                         \n",
       "24                                                  NaN                                                         \n",
       "25                                                Apple                                                         \n",
       "26                                                Apple                                                         \n",
       "27                                                Apple                                                         \n",
       "28                                                Apple                                                         \n",
       "29                                                Apple                                                         \n",
       "30                                                  NaN                                                         \n",
       "32                                                Apple                                                         \n",
       "33                                                  NaN                                                         \n",
       "34                                                Apple                                                         \n",
       "36                                                  NaN                                                         \n",
       "37                                                Apple                                                         \n",
       "...                                                 ...                                                         \n",
       "1019                                              Apple                                                         \n",
       "1021                                                NaN                                                         \n",
       "1022                                              Apple                                                         \n",
       "1023                                                NaN                                                         \n",
       "1024                                                NaN                                                         \n",
       "1025                                              Apple                                                         \n",
       "1026                                              Apple                                                         \n",
       "1027                                                NaN                                                         \n",
       "1029                                              Apple                                                         \n",
       "1030                                              Apple                                                         \n",
       "1031                                              Apple                                                         \n",
       "1033                                                NaN                                                         \n",
       "1034                                                NaN                                                         \n",
       "1035                                                NaN                                                         \n",
       "1038                                              Apple                                                         \n",
       "1039                                              Apple                                                         \n",
       "1040                                              Apple                                                         \n",
       "1041                                              Apple                                                         \n",
       "1042                                              Apple                                                         \n",
       "1044                                              Apple                                                         \n",
       "1045                                                NaN                                                         \n",
       "1046                                              Apple                                                         \n",
       "1047                                              Apple                                                         \n",
       "1048                                                NaN                                                         \n",
       "1049                                              Apple                                                         \n",
       "1050                                              Apple                                                         \n",
       "1051                                                NaN                                                         \n",
       "1053                                                NaN                                                         \n",
       "1054                                                NaN                                                         \n",
       "1055                                              Apple                                                         \n",
       "\n",
       "     Which type of pie is typically served at your Thanksgiving dinner? Please select all that apply. - Pumpkin  \\\n",
       "0                                                   NaN                                                           \n",
       "1                                               Pumpkin                                                           \n",
       "2                                               Pumpkin                                                           \n",
       "3                                               Pumpkin                                                           \n",
       "4                                               Pumpkin                                                           \n",
       "6                                               Pumpkin                                                           \n",
       "8                                               Pumpkin                                                           \n",
       "9                                               Pumpkin                                                           \n",
       "11                                                  NaN                                                           \n",
       "12                                              Pumpkin                                                           \n",
       "13                                              Pumpkin                                                           \n",
       "14                                              Pumpkin                                                           \n",
       "16                                                  NaN                                                           \n",
       "17                                              Pumpkin                                                           \n",
       "18                                              Pumpkin                                                           \n",
       "19                                              Pumpkin                                                           \n",
       "20                                              Pumpkin                                                           \n",
       "23                                                  NaN                                                           \n",
       "24                                              Pumpkin                                                           \n",
       "25                                              Pumpkin                                                           \n",
       "26                                              Pumpkin                                                           \n",
       "27                                              Pumpkin                                                           \n",
       "28                                              Pumpkin                                                           \n",
       "29                                              Pumpkin                                                           \n",
       "30                                              Pumpkin                                                           \n",
       "32                                              Pumpkin                                                           \n",
       "33                                              Pumpkin                                                           \n",
       "34                                                  NaN                                                           \n",
       "36                                              Pumpkin                                                           \n",
       "37                                              Pumpkin                                                           \n",
       "...                                                 ...                                                           \n",
       "1019                                            Pumpkin                                                           \n",
       "1021                                            Pumpkin                                                           \n",
       "1022                                            Pumpkin                                                           \n",
       "1023                                            Pumpkin                                                           \n",
       "1024                                                NaN                                                           \n",
       "1025                                            Pumpkin                                                           \n",
       "1026                                            Pumpkin                                                           \n",
       "1027                                            Pumpkin                                                           \n",
       "1029                                            Pumpkin                                                           \n",
       "1030                                                NaN                                                           \n",
       "1031                                                NaN                                                           \n",
       "1033                                            Pumpkin                                                           \n",
       "1034                                            Pumpkin                                                           \n",
       "1035                                            Pumpkin                                                           \n",
       "1038                                            Pumpkin                                                           \n",
       "1039                                            Pumpkin                                                           \n",
       "1040                                            Pumpkin                                                           \n",
       "1041                                            Pumpkin                                                           \n",
       "1042                                            Pumpkin                                                           \n",
       "1044                                                NaN                                                           \n",
       "1045                                            Pumpkin                                                           \n",
       "1046                                            Pumpkin                                                           \n",
       "1047                                            Pumpkin                                                           \n",
       "1048                                            Pumpkin                                                           \n",
       "1049                                                NaN                                                           \n",
       "1050                                            Pumpkin                                                           \n",
       "1051                                            Pumpkin                                                           \n",
       "1053                                            Pumpkin                                                           \n",
       "1054                                            Pumpkin                                                           \n",
       "1055                                                NaN                                                           \n",
       "\n",
       "     Which type of pie is typically served at your Thanksgiving dinner? Please select all that apply. - Pecan  \n",
       "0                                                   NaN                                                        \n",
       "1                                                   NaN                                                        \n",
       "2                                                 Pecan                                                        \n",
       "3                                                 Pecan                                                        \n",
       "4                                                   NaN                                                        \n",
       "6                                                   NaN                                                        \n",
       "8                                                   NaN                                                        \n",
       "9                                                   NaN                                                        \n",
       "11                                                Pecan                                                        \n",
       "12                                                  NaN                                                        \n",
       "13                                                  NaN                                                        \n",
       "14                                                Pecan                                                        \n",
       "16                                                Pecan                                                        \n",
       "17                                                  NaN                                                        \n",
       "18                                                Pecan                                                        \n",
       "19                                                  NaN                                                        \n",
       "20                                                  NaN                                                        \n",
       "23                                                  NaN                                                        \n",
       "24                                                Pecan                                                        \n",
       "25                                                Pecan                                                        \n",
       "26                                                  NaN                                                        \n",
       "27                                                  NaN                                                        \n",
       "28                                                  NaN                                                        \n",
       "29                                                  NaN                                                        \n",
       "30                                                  NaN                                                        \n",
       "32                                                  NaN                                                        \n",
       "33                                                  NaN                                                        \n",
       "34                                                Pecan                                                        \n",
       "36                                                Pecan                                                        \n",
       "37                                                Pecan                                                        \n",
       "...                                                 ...                                                        \n",
       "1019                                              Pecan                                                        \n",
       "1021                                                NaN                                                        \n",
       "1022                                                NaN                                                        \n",
       "1023                                                NaN                                                        \n",
       "1024                                              Pecan                                                        \n",
       "1025                                              Pecan                                                        \n",
       "1026                                                NaN                                                        \n",
       "1027                                                NaN                                                        \n",
       "1029                                                NaN                                                        \n",
       "1030                                                NaN                                                        \n",
       "1031                                                NaN                                                        \n",
       "1033                                                NaN                                                        \n",
       "1034                                                NaN                                                        \n",
       "1035                                                NaN                                                        \n",
       "1038                                              Pecan                                                        \n",
       "1039                                                NaN                                                        \n",
       "1040                                                NaN                                                        \n",
       "1041                                              Pecan                                                        \n",
       "1042                                              Pecan                                                        \n",
       "1044                                                NaN                                                        \n",
       "1045                                              Pecan                                                        \n",
       "1046                                              Pecan                                                        \n",
       "1047                                              Pecan                                                        \n",
       "1048                                                NaN                                                        \n",
       "1049                                                NaN                                                        \n",
       "1050                                                NaN                                                        \n",
       "1051                                              Pecan                                                        \n",
       "1053                                              Pecan                                                        \n",
       "1054                                                NaN                                                        \n",
       "1055                                                NaN                                                        \n",
       "\n",
       "[876 rows x 3 columns]"
      ]
     },
     "execution_count": 55,
     "metadata": {},
     "output_type": "execute_result"
    }
   ],
   "source": [
    "pies_data"
   ]
  },
  {
   "cell_type": "code",
   "execution_count": 57,
   "metadata": {
    "collapsed": false
   },
   "outputs": [],
   "source": [
    "apple_count = pies_data['Which type of pie is typically served at your Thanksgiving dinner? Please select all that apply. - Apple'].value_counts()"
   ]
  },
  {
   "cell_type": "code",
   "execution_count": 60,
   "metadata": {
    "collapsed": false
   },
   "outputs": [],
   "source": [
    "pumpkin_count = pies_data['Which type of pie is typically served at your Thanksgiving dinner? Please select all that apply. - Pumpkin'].value_counts()"
   ]
  },
  {
   "cell_type": "code",
   "execution_count": 61,
   "metadata": {
    "collapsed": true
   },
   "outputs": [],
   "source": [
    "pecan_count = pies_data['Which type of pie is typically served at your Thanksgiving dinner? Please select all that apply. - Pecan'].value_counts()"
   ]
  },
  {
   "cell_type": "code",
   "execution_count": 63,
   "metadata": {
    "collapsed": false
   },
   "outputs": [
    {
     "name": "stdout",
     "output_type": "stream",
     "text": [
      "Apple    514\n",
      "Name: Which type of pie is typically served at your Thanksgiving dinner? Please select all that apply. - Apple, dtype: int64\n",
      "Pumpkin    729\n",
      "Name: Which type of pie is typically served at your Thanksgiving dinner? Please select all that apply. - Pumpkin, dtype: int64\n",
      "Pecan    342\n",
      "Name: Which type of pie is typically served at your Thanksgiving dinner? Please select all that apply. - Pecan, dtype: int64\n"
     ]
    }
   ],
   "source": [
    "print(apple_count)\n",
    "print(pumpkin_count)\n",
    "print(pecan_count)"
   ]
  },
  {
   "cell_type": "code",
   "execution_count": 70,
   "metadata": {
    "collapsed": false
   },
   "outputs": [
    {
     "data": {
      "text/plain": [
       "count         947\n",
       "unique          4\n",
       "top       45 - 59\n",
       "freq          269\n",
       "Name: Age, dtype: object"
      ]
     },
     "execution_count": 70,
     "metadata": {},
     "output_type": "execute_result"
    }
   ],
   "source": [
    "data['Age'].describe()\n",
    "    "
   ]
  },
  {
   "cell_type": "code",
   "execution_count": 71,
   "metadata": {
    "collapsed": false
   },
   "outputs": [
    {
     "data": {
      "text/plain": [
       "45 - 59    269\n",
       "60+        258\n",
       "30 - 44    235\n",
       "18 - 29    185\n",
       "Name: Age, dtype: int64"
      ]
     },
     "execution_count": 71,
     "metadata": {},
     "output_type": "execute_result"
    }
   ],
   "source": [
    "data['Age'].value_counts()"
   ]
  },
  {
   "cell_type": "code",
   "execution_count": 75,
   "metadata": {
    "collapsed": true
   },
   "outputs": [],
   "source": [
    "def str_to_int(age_string):\n",
    "    if pd.isnull(age_string):\n",
    "        return None\n",
    "    age_int = int(age_string.split(' ')[0].replace('+',''))\n",
    "    return int(age_int)"
   ]
  },
  {
   "cell_type": "code",
   "execution_count": 76,
   "metadata": {
    "collapsed": false
   },
   "outputs": [],
   "source": [
    "data['int_age'] = data['Age'].apply(str_to_int)"
   ]
  },
  {
   "cell_type": "code",
   "execution_count": 77,
   "metadata": {
    "collapsed": false
   },
   "outputs": [
    {
     "data": {
      "text/plain": [
       "count         947\n",
       "unique          4\n",
       "top       45 - 59\n",
       "freq          269\n",
       "Name: Age, dtype: object"
      ]
     },
     "execution_count": 77,
     "metadata": {},
     "output_type": "execute_result"
    }
   ],
   "source": [
    "data['Age'].describe()"
   ]
  },
  {
   "cell_type": "code",
   "execution_count": 94,
   "metadata": {
    "collapsed": false
   },
   "outputs": [
    {
     "data": {
      "text/plain": [
       "count    947.000000\n",
       "mean      40.089757\n",
       "std       15.352014\n",
       "min       18.000000\n",
       "25%       30.000000\n",
       "50%       45.000000\n",
       "75%       60.000000\n",
       "max       60.000000\n",
       "Name: int_age, dtype: float64"
      ]
     },
     "execution_count": 94,
     "metadata": {},
     "output_type": "execute_result"
    }
   ],
   "source": [
    "data['int_age'].describe()"
   ]
  },
  {
   "cell_type": "markdown",
   "metadata": {},
   "source": [
    "#### Ages are just approx with even distribution as std is  low"
   ]
  },
  {
   "cell_type": "code",
   "execution_count": 96,
   "metadata": {
    "collapsed": false
   },
   "outputs": [
    {
     "data": {
      "text/plain": [
       "$25,000 to $49,999      166\n",
       "$50,000 to $74,999      127\n",
       "$75,000 to $99,999      127\n",
       "Prefer not to answer    118\n",
       "$100,000 to $124,999    109\n",
       "$200,000 and up          76\n",
       "$10,000 to $24,999       60\n",
       "$0 to $9,999             52\n",
       "$125,000 to $149,999     48\n",
       "$150,000 to $174,999     38\n",
       "$175,000 to $199,999     26\n",
       "Name: How much total combined money did all members of your HOUSEHOLD earn last year?, dtype: int64"
      ]
     },
     "execution_count": 96,
     "metadata": {},
     "output_type": "execute_result"
    }
   ],
   "source": [
    "data['How much total combined money did all members of your HOUSEHOLD earn last year?'].value_counts()"
   ]
  },
  {
   "cell_type": "code",
   "execution_count": 98,
   "metadata": {
    "collapsed": true
   },
   "outputs": [],
   "source": [
    "def income_to_int(income_string):\n",
    "    if pd.isnull(income_string):\n",
    "        return None\n",
    "    split_it = income_string.split(' ')\n",
    "    if split_it[0] == 'Prefer':\n",
    "        return None\n",
    "    income_int = split_it[0].replace('$','').replace(',','')\n",
    "    return int(income_int)"
   ]
  },
  {
   "cell_type": "code",
   "execution_count": 99,
   "metadata": {
    "collapsed": true
   },
   "outputs": [],
   "source": [
    "data['int_income'] = data['How much total combined money did all members of your HOUSEHOLD earn last year?'].apply(income_to_int)"
   ]
  },
  {
   "cell_type": "code",
   "execution_count": 102,
   "metadata": {
    "collapsed": false
   },
   "outputs": [
    {
     "data": {
      "text/plain": [
       "25000.0     166\n",
       "75000.0     127\n",
       "50000.0     127\n",
       "100000.0    109\n",
       "200000.0     76\n",
       "10000.0      60\n",
       "0.0          52\n",
       "125000.0     48\n",
       "150000.0     38\n",
       "175000.0     26\n",
       "Name: int_income, dtype: int64"
      ]
     },
     "execution_count": 102,
     "metadata": {},
     "output_type": "execute_result"
    }
   ],
   "source": [
    "data['int_income'].value_counts()"
   ]
  },
  {
   "cell_type": "code",
   "execution_count": 103,
   "metadata": {
    "collapsed": false
   },
   "outputs": [
    {
     "data": {
      "text/plain": [
       "count       829.000000\n",
       "mean      75965.018094\n",
       "std       59068.636748\n",
       "min           0.000000\n",
       "25%       25000.000000\n",
       "50%       75000.000000\n",
       "75%      100000.000000\n",
       "max      200000.000000\n",
       "Name: int_income, dtype: float64"
      ]
     },
     "execution_count": 103,
     "metadata": {},
     "output_type": "execute_result"
    }
   ],
   "source": [
    "data['int_income'].describe()"
   ]
  },
  {
   "cell_type": "markdown",
   "metadata": {},
   "source": [
    "#### Lower income range is taken in account. Not true depiction. Mean is very high.\n",
    "But very high Std"
   ]
  },
  {
   "cell_type": "code",
   "execution_count": 108,
   "metadata": {
    "collapsed": false
   },
   "outputs": [],
   "source": [
    "condition_income = data['int_income'] < 15000\n",
    "income_less15000  =  data[condition_income]['How far will you travel for Thanksgiving?']\n",
    "income_more15000  =  data[condition_income == False]['How far will you travel for Thanksgiving?']"
   ]
  },
  {
   "cell_type": "code",
   "execution_count": 109,
   "metadata": {
    "collapsed": false
   },
   "outputs": [
    {
     "data": {
      "text/plain": [
       "Thanksgiving is happening at my home--I won't travel at all                         46\n",
       "Thanksgiving is local--it will take place in the town I live in                     38\n",
       "Thanksgiving is out of town but not too far--it's a drive of a few hours or less    22\n",
       "Thanksgiving is out of town and far away--I have to drive several hours or fly       6\n",
       "Name: How far will you travel for Thanksgiving?, dtype: int64"
      ]
     },
     "execution_count": 109,
     "metadata": {},
     "output_type": "execute_result"
    }
   ],
   "source": [
    "income_less15000.value_counts()"
   ]
  },
  {
   "cell_type": "code",
   "execution_count": 110,
   "metadata": {
    "collapsed": false
   },
   "outputs": [
    {
     "data": {
      "text/plain": [
       "Thanksgiving is happening at my home--I won't travel at all                         350\n",
       "Thanksgiving is local--it will take place in the town I live in                     238\n",
       "Thanksgiving is out of town but not too far--it's a drive of a few hours or less    175\n",
       "Thanksgiving is out of town and far away--I have to drive several hours or fly       76\n",
       "Name: How far will you travel for Thanksgiving?, dtype: int64"
      ]
     },
     "execution_count": 110,
     "metadata": {},
     "output_type": "execute_result"
    }
   ],
   "source": [
    "income_more15000.value_counts()"
   ]
  },
  {
   "cell_type": "code",
   "execution_count": 123,
   "metadata": {
    "collapsed": false
   },
   "outputs": [
    {
     "data": {
      "text/html": [
       "<div>\n",
       "<table border=\"1\" class=\"dataframe\">\n",
       "  <thead>\n",
       "    <tr style=\"text-align: right;\">\n",
       "      <th>Have you ever attended a \"Friendsgiving?\"</th>\n",
       "      <th>No</th>\n",
       "      <th>Yes</th>\n",
       "    </tr>\n",
       "    <tr>\n",
       "      <th>Have you ever tried to meet up with hometown friends on Thanksgiving night?</th>\n",
       "      <th></th>\n",
       "      <th></th>\n",
       "    </tr>\n",
       "  </thead>\n",
       "  <tbody>\n",
       "    <tr>\n",
       "      <th>No</th>\n",
       "      <td>42.283702</td>\n",
       "      <td>37.010526</td>\n",
       "    </tr>\n",
       "    <tr>\n",
       "      <th>Yes</th>\n",
       "      <td>41.475410</td>\n",
       "      <td>33.976744</td>\n",
       "    </tr>\n",
       "  </tbody>\n",
       "</table>\n",
       "</div>"
      ],
      "text/plain": [
       "Have you ever attended a \"Friendsgiving?\"                  No        Yes\n",
       "Have you ever tried to meet up with hometown fr...                      \n",
       "No                                                  42.283702  37.010526\n",
       "Yes                                                 41.475410  33.976744"
      ]
     },
     "execution_count": 123,
     "metadata": {},
     "output_type": "execute_result"
    }
   ],
   "source": [
    "data.pivot_table(\n",
    "    index=\"Have you ever tried to meet up with hometown friends on Thanksgiving night?\", \n",
    "    columns=['Have you ever attended a \"Friendsgiving?\"'],\n",
    "    values=\"int_age\"\n",
    ")"
   ]
  },
  {
   "cell_type": "code",
   "execution_count": 124,
   "metadata": {
    "collapsed": false
   },
   "outputs": [
    {
     "data": {
      "text/html": [
       "<div>\n",
       "<table border=\"1\" class=\"dataframe\">\n",
       "  <thead>\n",
       "    <tr style=\"text-align: right;\">\n",
       "      <th>Have you ever attended a \"Friendsgiving?\"</th>\n",
       "      <th>No</th>\n",
       "      <th>Yes</th>\n",
       "    </tr>\n",
       "    <tr>\n",
       "      <th>Have you ever tried to meet up with hometown friends on Thanksgiving night?</th>\n",
       "      <th></th>\n",
       "      <th></th>\n",
       "    </tr>\n",
       "  </thead>\n",
       "  <tbody>\n",
       "    <tr>\n",
       "      <th>No</th>\n",
       "      <td>78914.549654</td>\n",
       "      <td>72894.736842</td>\n",
       "    </tr>\n",
       "    <tr>\n",
       "      <th>Yes</th>\n",
       "      <td>78750.000000</td>\n",
       "      <td>66019.736842</td>\n",
       "    </tr>\n",
       "  </tbody>\n",
       "</table>\n",
       "</div>"
      ],
      "text/plain": [
       "Have you ever attended a \"Friendsgiving?\"                     No           Yes\n",
       "Have you ever tried to meet up with hometown fr...                            \n",
       "No                                                  78914.549654  72894.736842\n",
       "Yes                                                 78750.000000  66019.736842"
      ]
     },
     "execution_count": 124,
     "metadata": {},
     "output_type": "execute_result"
    }
   ],
   "source": [
    "data.pivot_table(\n",
    "    index=\"Have you ever tried to meet up with hometown friends on Thanksgiving night?\", \n",
    "    columns=['Have you ever attended a \"Friendsgiving?\"'],\n",
    "    values=\"int_income\"\n",
    ")"
   ]
  },
  {
   "cell_type": "markdown",
   "metadata": {},
   "source": [
    "### Rich People don't meet with hometown friends on Thanksgiving night\n",
    "###  Younger people attend and meet hometown friends on Thanksgiving night"
   ]
  },
  {
   "cell_type": "markdown",
   "metadata": {},
   "source": [
    "### Most Common Desert People Eat"
   ]
  },
  {
   "cell_type": "code",
   "execution_count": 134,
   "metadata": {
    "collapsed": false
   },
   "outputs": [
    {
     "name": "stdout",
     "output_type": "stream",
     "text": [
      "Which of these desserts do you typically have at Thanksgiving dinner? Please select all that apply.   - Ice cream 266\n"
     ]
    }
   ],
   "source": [
    "maxi = None\n",
    "dishname = None\n",
    "for i in data.columns:\n",
    "    if 'Which of these desserts do you typically have at Thanksgiving dinner? Please select all that apply.' in i and 'None' not in i:\n",
    "        if maxi is None or int(data[i].value_counts()[0]) > maxi:\n",
    "            maxi = int(data[i].value_counts()[0])\n",
    "            dishname = i\n",
    "print (dishname,maxi)"
   ]
  },
  {
   "cell_type": "code",
   "execution_count": null,
   "metadata": {
    "collapsed": true
   },
   "outputs": [],
   "source": []
  }
 ],
 "metadata": {
  "kernelspec": {
   "display_name": "Python 3",
   "language": "python",
   "name": "python3"
  },
  "language_info": {
   "codemirror_mode": {
    "name": "ipython",
    "version": 3
   },
   "file_extension": ".py",
   "mimetype": "text/x-python",
   "name": "python",
   "nbconvert_exporter": "python",
   "pygments_lexer": "ipython3",
   "version": "3.4.3"
  }
 },
 "nbformat": 4,
 "nbformat_minor": 0
}
